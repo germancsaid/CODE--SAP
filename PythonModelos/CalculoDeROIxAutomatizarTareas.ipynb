{
 "cells": [
  {
   "cell_type": "code",
   "execution_count": 18,
   "metadata": {},
   "outputs": [
    {
     "name": "stdout",
     "output_type": "stream",
     "text": [
      "El costo mensual por no automatizar la tarea es de: 681 Bs.\n",
      "Mi propuesta para automatizar la tarea tiene un valor de: 2200 USD.\n",
      "El tiempo de retorno de inversión (ROI) estimado es de: 1.0 años, 10 meses y 13 días.\n"
     ]
    }
   ],
   "source": [
    "# Definición de variables\n",
    "sueldo_mensual = 7500 # Sueldo mensual del empleado\n",
    "dias_dedicados_a_tarea_sin_automatizar = 2 # Días dedicados a la tarea sin automatizar\n",
    "años_para_recuperar_inversion = 8 # Años para recuperar la inversión en la automatización\n",
    "\n",
    "dias_trabajo_mensual = 22 # Días trabajados en un mes\n",
    "horas_trabajadas_diario = 8 # Horas trabajadas por día\n",
    "valor_propuesta_usd = 2200 # Valor de la propuesta en USD\n",
    "\n",
    "# Cálculo del costo de la tarea sin automatizar en Bolivianos\n",
    "costo_hora = sueldo_mensual / dias_trabajo_mensual / horas_trabajadas_diario\n",
    "costo_tarea_sin_automatizar = costo_hora * horas_trabajadas_diario * dias_dedicados_a_tarea_sin_automatizar\n",
    "\n",
    "# Cálculo del valor de la propuesta en Bolivianos\n",
    "valor_propuesta_bs = valor_propuesta_usd * 6.96\n",
    "\n",
    "# Cálculo del ahorro mensual y anual en Bolivianos\n",
    "ahorro_mensual = costo_tarea_sin_automatizar\n",
    "\n",
    "# Cálculo del tiempo de retorno de inversión en meses\n",
    "tiempo_roi_meses = valor_propuesta_bs / ahorro_mensual\n",
    "\n",
    "# Cálculo del tiempo de retorno de inversión en años, meses y días\n",
    "years, months = divmod(tiempo_roi_meses, 12)\n",
    "months, days = divmod(int(round(months * 30.44)), 30.44)\n",
    "\n",
    "# Impresión de resultados\n",
    "print(\"El costo mensual por no automatizar la tarea es de:\", int(costo_tarea_sin_automatizar), \"Bs.\")\n",
    "print(\"Mi propuesta para automatizar la tarea tiene un valor de:\", valor_propuesta_usd, \"USD.\")\n",
    "print(\"El tiempo de retorno de inversión (ROI) estimado es de:\", years, \"años,\", int(months), \"meses y\", int(days), \"días.\")\n",
    "ahorro_anual = ahorro_mensual * 12\n",
    "valor_propuesta_usd = ahorro_anual * años_para_recuperar_inversion / 6.96"
   ]
  },
  {
   "cell_type": "code",
   "execution_count": 19,
   "metadata": {},
   "outputs": [
    {
     "name": "stdout",
     "output_type": "stream",
     "text": [
      "El costo mensual por no automatizar la tarea es de: 636.3636363636364 Bs.\n",
      "Mi propuesta para automatizar la tarea tiene un valor de: 9404.388714733543 USD.\n",
      "El tiempo de retorno de inversión (ROI) estimado es de: 8.0 años, 6 meses y 26 días.\n"
     ]
    }
   ],
   "source": [
    "# Definición de variables\n",
    "sueldo_mensual = 7000 # Sueldo mensual del empleado\n",
    "dias_dedicados_a_tarea_sin_automatizar = 2 # Días dedicados a la tarea sin automatizar\n",
    "\n",
    "dias_trabajo_mensual = 22 # Días trabajados en un mes\n",
    "horas_trabajadas_diario = 8 # Horas trabajadas por día\n",
    "valor_propuesta_usd = valor_propuesta_usd # Valor de la propuesta en USD\n",
    "\n",
    "# Cálculo del costo de la tarea sin automatizar en Bolivianos\n",
    "costo_hora = sueldo_mensual / dias_trabajo_mensual / horas_trabajadas_diario\n",
    "costo_tarea_sin_automatizar = costo_hora * horas_trabajadas_diario * dias_dedicados_a_tarea_sin_automatizar\n",
    "\n",
    "# Cálculo del valor de la propuesta en Bolivianos\n",
    "valor_propuesta_bs = valor_propuesta_usd * 6.96\n",
    "\n",
    "# Cálculo del ahorro mensual y anual en Bolivianos\n",
    "ahorro_mensual = costo_tarea_sin_automatizar\n",
    "\n",
    "\n",
    "# Cálculo del tiempo de retorno de inversión en meses\n",
    "tiempo_roi_meses = valor_propuesta_bs / ahorro_mensual\n",
    "\n",
    "# Cálculo del tiempo de retorno de inversión en años, meses y días\n",
    "years, months = divmod(tiempo_roi_meses, 12)\n",
    "months, days = divmod(int(round(months * 30.44)), 30.44)\n",
    "\n",
    "# Impresión de resultados\n",
    "print(\"El costo mensual por no automatizar la tarea es de:\", costo_tarea_sin_automatizar, \"Bs.\")\n",
    "print(\"Mi propuesta para automatizar la tarea tiene un valor de:\", valor_propuesta_usd, \"USD.\")\n",
    "print(\"El tiempo de retorno de inversión (ROI) estimado es de:\", years, \"años,\", int(months), \"meses y\", int(days), \"días.\")\n"
   ]
  },
  {
   "cell_type": "code",
   "execution_count": 13,
   "metadata": {},
   "outputs": [
    {
     "name": "stdout",
     "output_type": "stream",
     "text": [
      "La cuota mensual a credito es de: 146 USD.\n"
     ]
    }
   ],
   "source": [
    "cuota_mensual = valor_propuesta_usd / 2 / 12\n",
    "print(\"La cuota mensual a credito es de:\", int(cuota_mensual), \"USD.\")\n"
   ]
  },
  {
   "cell_type": "code",
   "execution_count": 14,
   "metadata": {},
   "outputs": [
    {
     "data": {
      "text/plain": [
       "3504"
      ]
     },
     "execution_count": 14,
     "metadata": {},
     "output_type": "execute_result"
    }
   ],
   "source": [
    "146 * 24"
   ]
  },
  {
   "cell_type": "code",
   "execution_count": 15,
   "metadata": {},
   "outputs": [
    {
     "data": {
      "text/plain": [
       "1.5909090909090908"
      ]
     },
     "execution_count": 15,
     "metadata": {},
     "output_type": "execute_result"
    }
   ],
   "source": [
    "3500/2200"
   ]
  },
  {
   "cell_type": "code",
   "execution_count": 16,
   "metadata": {},
   "outputs": [
    {
     "data": {
      "text/plain": [
       "660.0"
      ]
     },
     "execution_count": 16,
     "metadata": {},
     "output_type": "execute_result"
    }
   ],
   "source": [
    "2200 * 0.3"
   ]
  },
  {
   "cell_type": "code",
   "execution_count": 17,
   "metadata": {},
   "outputs": [
    {
     "data": {
      "text/plain": [
       "1320"
      ]
     },
     "execution_count": 17,
     "metadata": {},
     "output_type": "execute_result"
    }
   ],
   "source": [
    "660 * 2"
   ]
  },
  {
   "cell_type": "code",
   "execution_count": 20,
   "metadata": {},
   "outputs": [
    {
     "data": {
      "text/plain": [
       "22.916666666666668"
      ]
     },
     "execution_count": 20,
     "metadata": {},
     "output_type": "execute_result"
    }
   ],
   "source": [
    "2200 / 8 / 12"
   ]
  },
  {
   "cell_type": "code",
   "execution_count": 21,
   "metadata": {},
   "outputs": [
    {
     "data": {
      "text/plain": [
       "242"
      ]
     },
     "execution_count": 21,
     "metadata": {},
     "output_type": "execute_result"
    }
   ],
   "source": [
    "22 * 11"
   ]
  }
 ],
 "metadata": {
  "kernelspec": {
   "display_name": "Python 3",
   "language": "python",
   "name": "python3"
  },
  "language_info": {
   "codemirror_mode": {
    "name": "ipython",
    "version": 3
   },
   "file_extension": ".py",
   "mimetype": "text/x-python",
   "name": "python",
   "nbconvert_exporter": "python",
   "pygments_lexer": "ipython3",
   "version": "3.11.2"
  },
  "orig_nbformat": 4,
  "vscode": {
   "interpreter": {
    "hash": "87697cfc351c009abaddb02cb7c3a0ea499e5ed5001cf4be10fcc40d094b31c0"
   }
  }
 },
 "nbformat": 4,
 "nbformat_minor": 2
}
